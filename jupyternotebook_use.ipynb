{
 "cells": [
  {
   "cell_type": "markdown",
   "metadata": {
    "toc": true
   },
   "source": [
    "<h1>Table of Contents<span class=\"tocSkip\"></span></h1>\n",
    "<div class=\"toc\"><ul class=\"toc-item\"><li><span><a href=\"#Markdown语法知识\" data-toc-modified-id=\"Markdown语法知识-1\"><span class=\"toc-item-num\">1&nbsp;&nbsp;</span>Markdown语法知识</a></span><ul class=\"toc-item\"><li><span><a href=\"#1、快捷键\" data-toc-modified-id=\"1、快捷键-1.1\"><span class=\"toc-item-num\">1.1&nbsp;&nbsp;</span>1、快捷键</a></span></li></ul></li><li><span><a href=\"#2、基本语法\" data-toc-modified-id=\"2、基本语法-2\"><span class=\"toc-item-num\">2&nbsp;&nbsp;</span>2、基本语法</a></span><ul class=\"toc-item\"><li><span><a href=\"#2、1-字体设置斜体、粗体、删除线\" data-toc-modified-id=\"2、1-字体设置斜体、粗体、删除线-2.1\"><span class=\"toc-item-num\">2.1&nbsp;&nbsp;</span>2、1 字体设置斜体、粗体、删除线</a></span></li></ul></li></ul></div>"
   ]
  },
  {
   "cell_type": "markdown",
   "metadata": {},
   "source": [
    "# Markdown语法知识"
   ]
  },
  {
   "cell_type": "markdown",
   "metadata": {},
   "source": [
    "## 1、快捷键\n",
    "功能|快捷键\n",
    "-|-\n",
    "加粗|Ctrl+B\n",
    "斜体|Ctrl+l\n",
    "引用|Ctrl+Q\n",
    "\n",
    "\n",
    "23\n",
    "45<br>\n",
    "67"
   ]
  },
  {
   "cell_type": "markdown",
   "metadata": {},
   "source": [
    "# 2、基本语法\n",
    "## 2、1 字体设置斜体、粗体、删除线\n",
    "* 斜体 *斜体*\n",
    "* 倾斜 _倾斜_\n",
    "* 加粗 **加粗**\n",
    "* 倾斜加粗 ***加粗***\n",
    "* 下划线 ~~下划线~~"
   ]
  },
  {
   "cell_type": "code",
   "execution_count": null,
   "metadata": {},
   "outputs": [],
   "source": []
  }
 ],
 "metadata": {
  "kernelspec": {
   "display_name": "Python 3",
   "language": "python",
   "name": "python3"
  },
  "language_info": {
   "codemirror_mode": {
    "name": "ipython",
    "version": 3
   },
   "file_extension": ".py",
   "mimetype": "text/x-python",
   "name": "python",
   "nbconvert_exporter": "python",
   "pygments_lexer": "ipython3",
   "version": "3.7.0"
  },
  "latex_envs": {
   "LaTeX_envs_menu_present": true,
   "autoclose": false,
   "autocomplete": true,
   "bibliofile": "biblio.bib",
   "cite_by": "apalike",
   "current_citInitial": 1,
   "eqLabelWithNumbers": true,
   "eqNumInitial": 1,
   "hotkeys": {
    "equation": "Ctrl-E",
    "itemize": "Ctrl-I"
   },
   "labels_anchors": false,
   "latex_user_defs": false,
   "report_style_numbering": false,
   "user_envs_cfg": false
  },
  "toc": {
   "base_numbering": 1,
   "nav_menu": {},
   "number_sections": true,
   "sideBar": true,
   "skip_h1_title": false,
   "title_cell": "Table of Contents",
   "title_sidebar": "Contents",
   "toc_cell": true,
   "toc_position": {},
   "toc_section_display": true,
   "toc_window_display": false
  }
 },
 "nbformat": 4,
 "nbformat_minor": 2
}
